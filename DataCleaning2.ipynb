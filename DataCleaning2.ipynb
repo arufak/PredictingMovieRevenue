{
  "nbformat": 4,
  "nbformat_minor": 0,
  "metadata": {
    "colab": {
      "provenance": []
    },
    "kernelspec": {
      "name": "python3",
      "display_name": "Python 3"
    },
    "language_info": {
      "name": "python"
    }
  },
  "cells": [
    {
      "cell_type": "code",
      "source": [
        "from google.colab import drive\n",
        "import pandas as pd\n",
        "\n",
        "\n",
        "drive.mount('/content/drive')\n",
        "df = pd.read_csv('/content/drive/MyDrive/MOVIES/AllClean.csv')\n",
        "df.drop(columns=['credits'], inplace=True) #we got actor and director so no need for all credits\n",
        "df.drop(columns=['genres'], inplace=True) #we have a genre column for each, no need for this one\n",
        "df.drop(columns=['director'], inplace=True) #we have the director previous success, no need for this one\n",
        "df.drop(columns=['firstActor'], inplace=True) #we have the actor previous success, no need for this one\n",
        "df.drop(columns=['original_language'], inplace=True) #no need for this one\n",
        "df.drop(columns=['production_companies'], inplace=True) #no need for this one\n"
      ],
      "metadata": {
        "colab": {
          "base_uri": "https://localhost:8080/"
        },
        "id": "LU_lKRLiLsMK",
        "outputId": "1ca27863-3bc4-4e24-a313-8fcc080da8bb"
      },
      "execution_count": null,
      "outputs": [
        {
          "output_type": "stream",
          "name": "stdout",
          "text": [
            "Drive already mounted at /content/drive; to attempt to forcibly remount, call drive.mount(\"/content/drive\", force_remount=True).\n"
          ]
        }
      ]
    },
    {
      "cell_type": "code",
      "execution_count": null,
      "metadata": {
        "id": "S3Z3-lThGhgY",
        "colab": {
          "base_uri": "https://localhost:8080/"
        },
        "outputId": "a4c7c6f4-153b-41ff-820d-37ef95437956"
      },
      "outputs": [
        {
          "output_type": "stream",
          "name": "stdout",
          "text": [
            "       id                   title      budget     revenue  runtime  Drama  \\\n",
            "0   10060  Get Rich or Die Tryin'  40000000.0  46442528.0    117.0      1   \n",
            "1   70586                   Setup  20000000.0   2128186.0     85.0      1   \n",
            "2    9358     Final Destination 2  26000000.0  90941129.0     90.0      0   \n",
            "3  512096                    Cake    350000.0    850000.0    125.0      1   \n",
            "4  512096                    Cake    350000.0    850000.0    125.0      1   \n",
            "\n",
            "   Comedy  Action  Thriller  Romance  ...  competitors  genre_competition  \\\n",
            "0       0       0         0        0  ...           14                  1   \n",
            "1       0       1         0        0  ...           28                  2   \n",
            "2       0       0         0        0  ...           15                  2   \n",
            "3       0       0         0        1  ...           29                  2   \n",
            "4       0       0         0        1  ...           29                  2   \n",
            "\n",
            "   director_previous_success  age_rating_NC-17  age_rating_NR  age_rating_PG  \\\n",
            "0                  13.956445                 0              0              0   \n",
            "1                   0.000000                 0              0              0   \n",
            "2                   0.000000                 0              0              0   \n",
            "3                   0.000000                 0              0              0   \n",
            "4                   0.000000                 0              0              0   \n",
            "\n",
            "   age_rating_PG-13  age_rating_PG-13   age_rating_R  age_rating_unrated  \n",
            "0                 0                  0             1                   0  \n",
            "1                 0                  0             1                   0  \n",
            "2                 0                  0             0                   1  \n",
            "3                 0                  0             0                   1  \n",
            "4                 0                  0             0                   1  \n",
            "\n",
            "[5 rows x 41 columns]\n"
          ]
        }
      ],
      "source": [
        "import pandas as pd\n",
        "\n",
        "# Convert the \"age_rating\" column into dummy variables with integers (0s and 1s)\n",
        "df = pd.get_dummies(df, columns=['age_rating'], prefix='age_rating', drop_first=True, dtype=int)\n",
        "\n",
        "# Display the updated DataFrame\n",
        "print(df.head())\n"
      ]
    },
    {
      "cell_type": "code",
      "source": [
        "df.to_csv('/content/drive/MyDrive/MOVIES/AllClean2.csv', index=False)"
      ],
      "metadata": {
        "id": "yCUtXWq1MsZe"
      },
      "execution_count": null,
      "outputs": []
    }
  ]
}