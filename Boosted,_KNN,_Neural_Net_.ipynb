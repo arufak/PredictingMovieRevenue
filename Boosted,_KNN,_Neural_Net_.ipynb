{
  "nbformat": 4,
  "nbformat_minor": 0,
  "metadata": {
    "colab": {
      "provenance": []
    },
    "kernelspec": {
      "name": "python3",
      "display_name": "Python 3"
    },
    "language_info": {
      "name": "python"
    }
  },
  "cells": [
    {
      "cell_type": "code",
      "execution_count": null,
      "metadata": {
        "id": "CuY-nk3p-3tj"
      },
      "outputs": [],
      "source": [
        "import pandas as pd\n",
        "import numpy as np\n",
        "import matplotlib.pyplot as plt\n",
        "import seaborn as sns; sns.set()\n",
        "\n",
        "from sklearn.linear_model import Lasso\n",
        "from sklearn.model_selection import train_test_split\n",
        "from sklearn.preprocessing import PolynomialFeatures\n",
        "from sklearn.preprocessing import StandardScaler\n",
        "from sklearn.pipeline import make_pipeline\n",
        "from sklearn.metrics import mean_squared_error\n",
        "from datetime import datetime\n",
        "import math\n",
        "\n",
        "#this will mute errors that made your final pdf less legible\n",
        "import warnings\n",
        "warnings.filterwarnings('ignore')"
      ]
    },
    {
      "cell_type": "code",
      "source": [
        "# mount google drive\n",
        "from google.colab import drive\n",
        "drive.mount('/content/drive')"
      ],
      "metadata": {
        "colab": {
          "base_uri": "https://localhost:8080/"
        },
        "id": "mK1A3QuU_D15",
        "outputId": "2738f50c-6a0f-41a9-aa41-2dfa9f644761"
      },
      "execution_count": null,
      "outputs": [
        {
          "output_type": "stream",
          "name": "stdout",
          "text": [
            "Mounted at /content/drive\n"
          ]
        }
      ]
    },
    {
      "cell_type": "code",
      "source": [
        "df = pd.read_csv('/content/drive/MyDrive/MOVIES/AllClean2.csv')\n"
      ],
      "metadata": {
        "id": "uHb_Vyyq_H1o"
      },
      "execution_count": null,
      "outputs": []
    },
    {
      "cell_type": "code",
      "source": [
        "pd.set_option('display.max_columns', None)\n",
        "print(df)"
      ],
      "metadata": {
        "id": "lsq7Mm60_iWD",
        "colab": {
          "base_uri": "https://localhost:8080/"
        },
        "outputId": "6bce2855-8acd-483d-9937-579839bab8c0"
      },
      "execution_count": null,
      "outputs": [
        {
          "output_type": "stream",
          "name": "stdout",
          "text": [
            "          id                                   title       budget     revenue  \\\n",
            "0      10060                  Get Rich or Die Tryin'   40000000.0  46442528.0   \n",
            "1      70586                                   Setup   20000000.0   2128186.0   \n",
            "2       9358                     Final Destination 2   26000000.0  90941129.0   \n",
            "3     512096                                    Cake     350000.0    850000.0   \n",
            "4     512096                                    Cake     350000.0    850000.0   \n",
            "...      ...                                     ...          ...         ...   \n",
            "9484  538278                               Manticore    6000000.0   1756511.0   \n",
            "9485  960175                    Karmafal Daata Shani  100000000.0  10000000.0   \n",
            "9486  426107                                   Alive     110600.0     52400.0   \n",
            "9487  859016  Super headphones | אוזניות תלת מימדיות     150000.0    178000.0   \n",
            "9488  948872                                    翠岗红旗     100000.0    100000.0   \n",
            "\n",
            "      runtime  Drama  Comedy  Action  Thriller  Romance  Adventure  Crime  \\\n",
            "0       117.0      1       0       0         0        0          0      1   \n",
            "1        85.0      1       0       1         0        0          0      1   \n",
            "2        90.0      0       0       0         0        0          0      0   \n",
            "3       125.0      1       0       0         0        1          0      0   \n",
            "4       125.0      1       0       0         0        1          0      0   \n",
            "...       ...    ...     ...     ...       ...      ...        ...    ...   \n",
            "9484    110.0      0       0       0         1        0          0      0   \n",
            "9485      0.0      1       0       0         0        0          0      0   \n",
            "9486     95.0      1       0       0         0        0          0      0   \n",
            "9487      0.0      0       0       0         0        0          0      0   \n",
            "9488      0.0      1       0       0         0        0          0      0   \n",
            "\n",
            "      Horror  Science Fiction  Family  Fantasy  Mystery  Animation  History  \\\n",
            "0          0                0       0        0        0          0        0   \n",
            "1          0                0       0        0        0          0        0   \n",
            "2          1                0       0        0        1          0        0   \n",
            "3          0                0       0        0        1          0        0   \n",
            "4          0                0       0        0        1          0        0   \n",
            "...      ...              ...     ...      ...      ...        ...      ...   \n",
            "9484       0                0       0        0        0          0        0   \n",
            "9485       0                0       0        1        0          0        0   \n",
            "9486       0                0       0        0        0          0        1   \n",
            "9487       0                0       1        0        0          1        0   \n",
            "9488       0                0       0        0        0          0        0   \n",
            "\n",
            "      Music  War  Documentary  Western  TV Movie  year  month  day  \\\n",
            "0         1    0            0        0         0  2005     11    9   \n",
            "1         0    0            0        0         0  2011     10   17   \n",
            "2         0    0            0        0         0  2003      1   31   \n",
            "3         0    0            0        0         0  2018      3   30   \n",
            "4         0    0            0        0         0  2018      3   30   \n",
            "...     ...  ...          ...      ...       ...   ...    ...  ...   \n",
            "9484      0    0            0        0         0  2011      2   11   \n",
            "9485      0    0            0        0         0  2018      3    9   \n",
            "9486      0    0            0        0         0  2016     11   23   \n",
            "9487      0    0            0        0         0  2021      7    4   \n",
            "9488      0    1            0        0         0  1951      8    8   \n",
            "\n",
            "      revenue_to_budget_ratio  actor_previous_success  day_of_week_numeric  \\\n",
            "0                    1.161063                0.000000                    3   \n",
            "1                    0.106409                1.161063                    1   \n",
            "2                    3.497736                0.000000                    5   \n",
            "3                    2.428571                0.000000                    5   \n",
            "4                    2.428571                2.428571                    5   \n",
            "...                       ...                     ...                  ...   \n",
            "9484                 0.292752                0.000000                    5   \n",
            "9485                 0.100000                0.000000                    5   \n",
            "9486                 0.473779                0.000000                    3   \n",
            "9487                 1.186667                0.000000                    7   \n",
            "9488                 1.000000                0.000000                    3   \n",
            "\n",
            "      season_numeric  competitors  genre_competition  \\\n",
            "0                  1           14                  1   \n",
            "1                  1           28                  2   \n",
            "2                  2           15                  2   \n",
            "3                  3           29                  2   \n",
            "4                  3           29                  2   \n",
            "...              ...          ...                ...   \n",
            "9484               2           24                  5   \n",
            "9485               3           29                  1   \n",
            "9486               1           40                 11   \n",
            "9487               4           20                  1   \n",
            "9488               4            2                  1   \n",
            "\n",
            "      director_previous_success  age_rating_NC-17  age_rating_NR  \\\n",
            "0                     13.956445                 0              0   \n",
            "1                      0.000000                 0              0   \n",
            "2                      0.000000                 0              0   \n",
            "3                      0.000000                 0              0   \n",
            "4                      0.000000                 0              0   \n",
            "...                         ...               ...            ...   \n",
            "9484                   0.292752                 0              0   \n",
            "9485                   0.000000                 0              0   \n",
            "9486                   0.000000                 0              0   \n",
            "9487                   0.000000                 0              0   \n",
            "9488                   0.000000                 0              0   \n",
            "\n",
            "      age_rating_PG  age_rating_PG-13  age_rating_PG-13   age_rating_R  \\\n",
            "0                 0                 0                  0             1   \n",
            "1                 0                 0                  0             1   \n",
            "2                 0                 0                  0             0   \n",
            "3                 0                 0                  0             0   \n",
            "4                 0                 0                  0             0   \n",
            "...             ...               ...                ...           ...   \n",
            "9484              0                 0                  0             0   \n",
            "9485              0                 0                  0             0   \n",
            "9486              0                 0                  0             0   \n",
            "9487              0                 0                  0             0   \n",
            "9488              0                 0                  0             0   \n",
            "\n",
            "      age_rating_unrated  \n",
            "0                      0  \n",
            "1                      0  \n",
            "2                      1  \n",
            "3                      1  \n",
            "4                      1  \n",
            "...                  ...  \n",
            "9484                   1  \n",
            "9485                   1  \n",
            "9486                   1  \n",
            "9487                   1  \n",
            "9488                   1  \n",
            "\n",
            "[9489 rows x 41 columns]\n"
          ]
        }
      ]
    },
    {
      "cell_type": "code",
      "source": [
        "\n"
      ],
      "metadata": {
        "id": "wRxOhjpLMbj7"
      },
      "execution_count": null,
      "outputs": []
    },
    {
      "cell_type": "code",
      "source": [
        "unUsedColumns=['id','title','year','month','day','revenue_to_budget_ratio','revenue']\n",
        "xDF = df.drop(columns=unUsedColumns)\n",
        "print(xDF.head())\n"
      ],
      "metadata": {
        "colab": {
          "base_uri": "https://localhost:8080/"
        },
        "id": "4cNVlNODDe0z",
        "outputId": "6d39959c-786a-4d6e-e718-329cf763aa2f"
      },
      "execution_count": null,
      "outputs": [
        {
          "output_type": "stream",
          "name": "stdout",
          "text": [
            "       budget  runtime  Drama  Comedy  Action  Thriller  Romance  Adventure  \\\n",
            "0  40000000.0    117.0      1       0       0         0        0          0   \n",
            "1  20000000.0     85.0      1       0       1         0        0          0   \n",
            "2  26000000.0     90.0      0       0       0         0        0          0   \n",
            "3    350000.0    125.0      1       0       0         0        1          0   \n",
            "4    350000.0    125.0      1       0       0         0        1          0   \n",
            "\n",
            "   Crime  Horror  Science Fiction  Family  Fantasy  Mystery  Animation  \\\n",
            "0      1       0                0       0        0        0          0   \n",
            "1      1       0                0       0        0        0          0   \n",
            "2      0       1                0       0        0        1          0   \n",
            "3      0       0                0       0        0        1          0   \n",
            "4      0       0                0       0        0        1          0   \n",
            "\n",
            "   History  Music  War  Documentary  Western  TV Movie  \\\n",
            "0        0      1    0            0        0         0   \n",
            "1        0      0    0            0        0         0   \n",
            "2        0      0    0            0        0         0   \n",
            "3        0      0    0            0        0         0   \n",
            "4        0      0    0            0        0         0   \n",
            "\n",
            "   actor_previous_success  day_of_week_numeric  season_numeric  competitors  \\\n",
            "0                0.000000                    3               1           14   \n",
            "1                1.161063                    1               1           28   \n",
            "2                0.000000                    5               2           15   \n",
            "3                0.000000                    5               3           29   \n",
            "4                2.428571                    5               3           29   \n",
            "\n",
            "   genre_competition  director_previous_success  age_rating_NC-17  \\\n",
            "0                  1                  13.956445                 0   \n",
            "1                  2                   0.000000                 0   \n",
            "2                  2                   0.000000                 0   \n",
            "3                  2                   0.000000                 0   \n",
            "4                  2                   0.000000                 0   \n",
            "\n",
            "   age_rating_NR  age_rating_PG  age_rating_PG-13  age_rating_PG-13   \\\n",
            "0              0              0                 0                  0   \n",
            "1              0              0                 0                  0   \n",
            "2              0              0                 0                  0   \n",
            "3              0              0                 0                  0   \n",
            "4              0              0                 0                  0   \n",
            "\n",
            "   age_rating_R  age_rating_unrated  \n",
            "0             1                   0  \n",
            "1             1                   0  \n",
            "2             0                   1  \n",
            "3             0                   1  \n",
            "4             0                   1  \n"
          ]
        }
      ]
    },
    {
      "cell_type": "markdown",
      "source": [
        "Above I am dropping all of the non-numeric variables that will not be used in the model, and am checking the Dataframe to ensure I have what I need"
      ],
      "metadata": {
        "id": "6U_fLR1OkZAK"
      }
    },
    {
      "cell_type": "code",
      "source": [
        "X = xDF\n",
        "y = df['revenue']\n",
        "from sklearn.model_selection import train_test_split\n",
        "X_train, X_test, y_train, y_test = train_test_split(X, y, test_size=0.2, random_state=42)"
      ],
      "metadata": {
        "id": "Uawv7ljGH-mk"
      },
      "execution_count": null,
      "outputs": []
    },
    {
      "cell_type": "markdown",
      "source": [
        "Setting up my training and testing variables. As you can see we are trying to predict movie revenue based on the variables above. Will be using the same testing and training sets for all different models used below."
      ],
      "metadata": {
        "id": "b2fBlTZhkqMk"
      }
    },
    {
      "cell_type": "code",
      "source": [
        "from sklearn.tree import DecisionTreeRegressor\n",
        "from sklearn.datasets import make_regression\n",
        "from sklearn.model_selection import GridSearchCV\n",
        "from sklearn.metrics import mean_squared_error\n",
        "from sklearn.ensemble import AdaBoostRegressor"
      ],
      "metadata": {
        "id": "2J8t2r43EdrP"
      },
      "execution_count": null,
      "outputs": []
    },
    {
      "cell_type": "code",
      "source": [
        "param_grid = {\n",
        "    'base_estimator__max_depth': [ 1,3, 5, 10] , # Decision Tree max depth\n",
        "    'n_estimators': [25, 50, 100, 300],  # Number of trees\n",
        "    'learning_rate': [.001, 0.01, 0.1, 1]  # Learning rate\n",
        "}\n",
        "base_estimator = DecisionTreeRegressor()\n",
        "\n",
        "# Step 4: Instantiate AdaBoost Regressor\n",
        "ada_boost_regressor = AdaBoostRegressor(base_estimator=base_estimator, random_state=42)\n",
        "\n",
        "# Step 5: Instantiate GridSearchCV\n",
        "grid_search = GridSearchCV(ada_boost_regressor, param_grid, cv=5, scoring='neg_mean_squared_error')\n",
        "\n",
        "# Step 6: Fit the model\n",
        "grid_search.fit(X_train, y_train)\n",
        "\n",
        "# Step 7: Best parameter combination\n",
        "print(\"Best parameters found:\", grid_search.best_params_)\n",
        "\n",
        "# Step 8: Make predictions with the best model\n",
        "best_model = grid_search.best_estimator_\n",
        "predictions = best_model.predict(X_test)\n",
        "\n",
        "# Step 9: Evaluate the model\n",
        "mse = mean_squared_error(y_test, predictions)\n",
        "print(\"Mean Squared Error:\", mse)\n"
      ],
      "metadata": {
        "colab": {
          "base_uri": "https://localhost:8080/"
        },
        "id": "jrKLQlySNCZc",
        "outputId": "39b349f5-0b6a-4416-aaf2-49876acf0a80"
      },
      "execution_count": null,
      "outputs": [
        {
          "output_type": "stream",
          "name": "stdout",
          "text": [
            "Best parameters found: {'base_estimator__max_depth': 5, 'learning_rate': 0.01, 'n_estimators': 300}\n",
            "Mean Squared Error: 1.1524958576069528e+16\n"
          ]
        }
      ]
    },
    {
      "cell_type": "markdown",
      "source": [
        "Above is my Boosted Decision tree model. I used grid search to tune for parameters. I originally only had max_depth as [1,3,5], num_estimators as [25, 50, 100], and learning_rate as [.001, .01, .1], but expanded the inputs because the tuned model used the highest parameters for each of the options.\n",
        "\n",
        "Best parameters found: {'base_estimator__max_depth': 5, 'learning_rate': 0.01, 'n_estimators': 300}"
      ],
      "metadata": {
        "id": "bTQ764Ahk32X"
      }
    },
    {
      "cell_type": "code",
      "source": [
        "##Tuned Model\n",
        "base_estimator = DecisionTreeRegressor(max_depth=5)\n",
        "\n",
        "# Initialize the AdaBoost regressor with the base estimator\n",
        "adaboost_reg = AdaBoostRegressor(base_estimator=base_estimator, n_estimators=300, learning_rate=.01, random_state=42)\n",
        "\n",
        "# Train the AdaBoost regressor\n",
        "adaboost_reg.fit(X_train, y_train)\n",
        "\n",
        "# Make predictions\n",
        "BoostedPredictions = adaboost_reg.predict(X_test)\n",
        "\n",
        "# Evaluate the model\n",
        "mse = mean_squared_error(y_test, predictions)\n",
        "print(\"Mean Squared Error:\", mse)\n",
        "\n"
      ],
      "metadata": {
        "colab": {
          "base_uri": "https://localhost:8080/"
        },
        "id": "Rp76MD4IUDsE",
        "outputId": "d8d41371-3849-4f6c-81a1-68aadb2e4355"
      },
      "execution_count": null,
      "outputs": [
        {
          "output_type": "stream",
          "name": "stdout",
          "text": [
            "Mean Squared Error: 1.1524958576069528e+16\n"
          ]
        }
      ]
    },
    {
      "cell_type": "markdown",
      "source": [
        "Above is our tuned boosted decision tree, which happens to be the best model that we were able to get."
      ],
      "metadata": {
        "id": "x0tWZf0s9ZFv"
      }
    },
    {
      "cell_type": "code",
      "source": [
        "TrainPredictions = adaboost_reg.predict(X_train)\n",
        "\n",
        "# Evaluate the model\n",
        "mse = mean_squared_error(y_train, TrainPredictions)\n",
        "print(\"Mean Squared Error:\", mse)\n"
      ],
      "metadata": {
        "colab": {
          "base_uri": "https://localhost:8080/"
        },
        "id": "gSVi4Jdw1C8j",
        "outputId": "bbcf8400-b40a-413d-9a29-c3ca912ae0a4"
      },
      "execution_count": null,
      "outputs": [
        {
          "output_type": "stream",
          "name": "stdout",
          "text": [
            "Mean Squared Error: 6632835156664365.0\n"
          ]
        }
      ]
    },
    {
      "cell_type": "markdown",
      "source": [
        "The Train MSE is .66e+16, compared to 1.15e+16 for the Test MSE, which is a much bigger difference than many of our other models, suggesting this model may be over fitting even though it has the best performance."
      ],
      "metadata": {
        "id": "XDMCLjs-9iuf"
      }
    },
    {
      "cell_type": "code",
      "source": [
        "rmse=mse**.5\n",
        "print(rmse)"
      ],
      "metadata": {
        "colab": {
          "base_uri": "https://localhost:8080/"
        },
        "id": "a3E_qrDLwnwO",
        "outputId": "24eb4a3f-0cdb-483a-a543-29368cba0cad"
      },
      "execution_count": null,
      "outputs": [
        {
          "output_type": "stream",
          "name": "stdout",
          "text": [
            "107354359.83726756\n"
          ]
        }
      ]
    },
    {
      "cell_type": "markdown",
      "source": [
        "The Root MSE is 107m, which is still very high considering that most of the Y variables in our dataset under 250m, showing that we don't have very much predictive power with our variables."
      ],
      "metadata": {
        "id": "da0iLlvf92OB"
      }
    },
    {
      "cell_type": "code",
      "source": [
        "theMean=y_train.mean()"
      ],
      "metadata": {
        "id": "bRyEukg_QsPy"
      },
      "execution_count": null,
      "outputs": []
    },
    {
      "cell_type": "code",
      "source": [
        "ones=np.ones(len(y_test))"
      ],
      "metadata": {
        "id": "DB90jc89Ernd"
      },
      "execution_count": null,
      "outputs": []
    },
    {
      "cell_type": "code",
      "source": [
        "ones=ones*theMean"
      ],
      "metadata": {
        "id": "VgCw79RfGco3"
      },
      "execution_count": null,
      "outputs": []
    },
    {
      "cell_type": "code",
      "source": [
        "meanmse=mean_squared_error(y_test,ones)\n",
        "print(meanmse)"
      ],
      "metadata": {
        "colab": {
          "base_uri": "https://localhost:8080/"
        },
        "id": "MX1y6j7JGgkp",
        "outputId": "3d3b55ef-3b7e-481b-c066-2469e09e21cb"
      },
      "execution_count": null,
      "outputs": [
        {
          "output_type": "stream",
          "name": "stdout",
          "text": [
            "2.5505058063806932e+16\n"
          ]
        }
      ]
    },
    {
      "cell_type": "code",
      "source": [
        "rmsemean=meanmse**.5\n",
        "print(rmsemean)"
      ],
      "metadata": {
        "id": "_CduztK3GuNR",
        "colab": {
          "base_uri": "https://localhost:8080/"
        },
        "outputId": "dcee8d92-60e8-4b7f-8aed-d4982380c145"
      },
      "execution_count": null,
      "outputs": [
        {
          "output_type": "stream",
          "name": "stdout",
          "text": [
            "159703030.85354057\n"
          ]
        }
      ]
    },
    {
      "cell_type": "markdown",
      "source": [
        "Above is the MSE of predicting the mean for the training set onto the Test set, which we are beating by a decent margin now. This shows that our models are somewhat useful, but given the percent error I wouldn't imagine them to be very helpful in a real world setting."
      ],
      "metadata": {
        "id": "5MGDs5hk-Ss1"
      }
    },
    {
      "cell_type": "code",
      "source": [
        "## Comparing Residuals between the two models\n",
        "Boostedresiduals = (y_test - BoostedPredictions)\n",
        "BaselineResiduals = (y_test - ones)\n",
        "fig, ax = plt.subplots(figsize=(8, 6))\n",
        "ax.hist(Boostedresiduals, bins=30, alpha=0.5, color='blue', label='Boosted')\n",
        "\n",
        "# Plot the residuals of the second model\n",
        "ax.hist(BaselineResiduals, bins=30, alpha=0.5, color='orange', label='Baseline')\n",
        "\n",
        "# Add labels and title\n",
        "ax.set_xlabel('Residuals')\n",
        "ax.set_ylabel('Frequency')\n",
        "ax.set_title('Comparison of Residuals between Boosted and Baseline')\n",
        "ax.legend()"
      ],
      "metadata": {
        "colab": {
          "base_uri": "https://localhost:8080/",
          "height": 591
        },
        "id": "axfJCgivU90x",
        "outputId": "f9085ed9-cc96-4929-8e7f-62c48ce6913e"
      },
      "execution_count": null,
      "outputs": [
        {
          "output_type": "execute_result",
          "data": {
            "text/plain": [
              "<matplotlib.legend.Legend at 0x78ac775c39d0>"
            ]
          },
          "metadata": {},
          "execution_count": 22
        },
        {
          "output_type": "display_data",
          "data": {
            "text/plain": [
              "<Figure size 800x600 with 1 Axes>"
            ],
            "image/png": "[encoded data removed]"
          },
          "metadata": {}
        }
      ]
    },
    {
      "cell_type": "markdown",
      "source": [
        "Here is the distributions of the residuals for our boosted model, and when predicting the mean. They both seem to center around zeor which is to be expected, but they still look quite similar to each other. It is also clear that there are major outliers skewing this dataset, as there exist residuals over a billion dollars off. The data having these outliers is liking a big cause of the inability for all of our models to make useful predictions."
      ],
      "metadata": {
        "id": "NQxN9XVJlpdg"
      }
    },
    {
      "cell_type": "code",
      "source": [
        "from sklearn.preprocessing import StandardScaler\n",
        "from sklearn.neighbors import KNeighborsRegressor\n",
        "from sklearn.model_selection import GridSearchCV\n",
        "\n",
        "scaler = StandardScaler()\n",
        "X_train_scaled = scaler.fit_transform(X_train)\n",
        "X_test_scaled = scaler.transform(X_test)\n",
        "\n",
        "# Step 5: Define Hyperparameters\n",
        "param_grid = {'n_neighbors': range(1, 100)}  # Range of k values to test\n",
        "\n",
        "# Step 6: Cross-Validation\n",
        "knn = KNeighborsRegressor()\n",
        "grid_search = GridSearchCV(knn, param_grid, cv=5, scoring='neg_mean_squared_error')\n",
        "grid_search.fit(X_train_scaled, y_train)\n",
        "\n",
        "# Step 7: Select Best k\n",
        "best_k = grid_search.best_params_['n_neighbors']\n",
        "print(\"Best number of neighbors:\", best_k)\n",
        "\n",
        "# Step 8: Train Final Model\n",
        "final_knn = KNeighborsRegressor(n_neighbors=best_k)\n",
        "final_knn.fit(X_train_scaled, y_train)\n",
        "\n",
        "# Step 9: Evaluate\n",
        "KNN_pred = final_knn.predict(X_test_scaled)\n",
        "mse = mean_squared_error(y_test, KNN_pred)\n",
        "rmse= mse**.5\n",
        "print(\"Mean Squared Error with best k:\", mse)"
      ],
      "metadata": {
        "id": "8pgUMAfkUjaZ",
        "colab": {
          "base_uri": "https://localhost:8080/"
        },
        "outputId": "7c2c5c3d-a7d3-413d-a5cc-1eaeff5aa857"
      },
      "execution_count": null,
      "outputs": [
        {
          "output_type": "stream",
          "name": "stdout",
          "text": [
            "Best number of neighbors: 18\n",
            "Mean Squared Error with best k: 1.3134619022435142e+16\n"
          ]
        }
      ]
    },
    {
      "cell_type": "code",
      "source": [
        "rmse= mse**.5\n",
        "print(\" Root Mean Squared Error with best k:\", rmse)"
      ],
      "metadata": {
        "colab": {
          "base_uri": "https://localhost:8080/"
        },
        "id": "nugF8zMi7Cla",
        "outputId": "8a6ea0dd-5fdf-48d4-8d4d-47019f854adf"
      },
      "execution_count": null,
      "outputs": [
        {
          "output_type": "stream",
          "name": "stdout",
          "text": [
            " Root Mean Squared Error with best k: 116750459.53753567\n"
          ]
        }
      ]
    },
    {
      "cell_type": "markdown",
      "source": [
        "Here I implement a K nearest neighbors model, and tune on the number of neighbors. I use grid search for simplicity of writing the code, with 5 fold CV, and test all numbers of neighbores between 1 and 100. After tuning, I find the best Test set MSE is 18 neighbors. This test MSE is still higher than the Boosted Decision tree though, and is still not very useful for real world applications."
      ],
      "metadata": {
        "id": "3AUe4Exa_PQg"
      }
    },
    {
      "cell_type": "code",
      "source": [
        "## Comparing Residuals between the two models\n",
        "KNN = (y_test - KNN_pred)\n",
        "BaselineResiduals = (y_test - ones)\n",
        "fig, ax = plt.subplots(figsize=(8, 6))\n",
        "ax.hist(KNN, bins=30, alpha=0.5, color='blue', label='KNN')\n",
        "\n",
        "# Plot the residuals of the second model\n",
        "ax.hist(BaselineResiduals, bins=30, alpha=0.5, color='orange', label='Baseline')\n",
        "\n",
        "# Add labels and title\n",
        "ax.set_xlabel('Residuals')\n",
        "ax.set_ylabel('Frequency')\n",
        "ax.set_title('Comparison of Residuals between KNN and Baseline')\n",
        "ax.legend()"
      ],
      "metadata": {
        "id": "KA2ezuG60xGQ",
        "colab": {
          "base_uri": "https://localhost:8080/",
          "height": 591
        },
        "outputId": "317ff790-0dbb-4654-b77b-8ae3d284a7d6"
      },
      "execution_count": null,
      "outputs": [
        {
          "output_type": "execute_result",
          "data": {
            "text/plain": [
              "<matplotlib.legend.Legend at 0x78ac74bf1630>"
            ]
          },
          "metadata": {},
          "execution_count": 26
        },
        {
          "output_type": "display_data",
          "data": {
            "text/plain": [
              "<Figure size 800x600 with 1 Axes>"
            ],
            "image/png": "[encoded data removed]"
          },
          "metadata": {}
        }
      ]
    },
    {
      "cell_type": "markdown",
      "source": [
        "Here is another comparison between the residuals of the KNN model when compared to the baseline. The distributions are very similar to the boosted model, and only deviate slightly. Once again I think this is a very clear indication that our data in general and the predictors we are using do not have very good predictive power."
      ],
      "metadata": {
        "id": "KjDAGPZG_ouO"
      }
    },
    {
      "cell_type": "code",
      "source": [
        "import tensorflow as tf\n",
        "from tensorflow.keras.models import Sequential\n",
        "from tensorflow.keras.layers import Dense\n",
        "\n",
        "scaler = StandardScaler()\n",
        "X_train_scaled = scaler.fit_transform(X_train)\n",
        "X_val_scaled = scaler.transform(X_test)\n",
        "\n",
        "# Define the architecture of the neural network\n",
        "model = Sequential([\n",
        "    Dense(64, activation='tanh', input_shape=(X_train.shape[1],)),  # input layer with 64 neurons and tanh activation\n",
        "    Dense(32, activation='tanh'),  # hidden layer with 32 neurons and tanh activation\n",
        "    Dense(1)  # output layer with 1 neuron (for regression tasks)\n",
        "])\n",
        "\n",
        "# Compile the model\n",
        "model.compile(optimizer='adam', loss='mean_squared_error')\n",
        "\n",
        "model.fit(X_train_scaled, y_train, epochs=20, batch_size=32, validation_split=0.2)\n",
        "\n",
        "predictions = model.predict(X_val_scaled)\n",
        "mse = mean_squared_error(y_test, predictions)\n",
        "print(\"Mean Squared Error:\", mse)"
      ],
      "metadata": {
        "colab": {
          "base_uri": "https://localhost:8080/"
        },
        "id": "8Rgkbjqk6gyP",
        "outputId": "f3dbdba8-2553-48e5-cb43-65455f6f2ee1"
      },
      "execution_count": null,
      "outputs": [
        {
          "output_type": "stream",
          "name": "stdout",
          "text": [
            "Epoch 1/20\n",
            "190/190 [==============================] - 3s 6ms/step - loss: 29136652261654528.0000 - val_loss: 34163043898228736.0000\n",
            "Epoch 2/20\n",
            "190/190 [==============================] - 1s 5ms/step - loss: 29136665146556416.0000 - val_loss: 34163043898228736.0000\n",
            "Epoch 3/20\n",
            "190/190 [==============================] - 1s 4ms/step - loss: 29136643671719936.0000 - val_loss: 34163043898228736.0000\n",
            "Epoch 4/20\n",
            "190/190 [==============================] - 1s 4ms/step - loss: 29136654409138176.0000 - val_loss: 34163041750745088.0000\n",
            "Epoch 5/20\n",
            "190/190 [==============================] - 1s 4ms/step - loss: 29136654409138176.0000 - val_loss: 34163041750745088.0000\n",
            "Epoch 6/20\n",
            "190/190 [==============================] - 1s 3ms/step - loss: 29136673736491008.0000 - val_loss: 34163041750745088.0000\n",
            "Epoch 7/20\n",
            "190/190 [==============================] - 1s 4ms/step - loss: 29136654409138176.0000 - val_loss: 34163041750745088.0000\n",
            "Epoch 8/20\n",
            "190/190 [==============================] - 1s 4ms/step - loss: 29136652261654528.0000 - val_loss: 34163041750745088.0000\n",
            "Epoch 9/20\n",
            "190/190 [==============================] - 1s 4ms/step - loss: 29136641524236288.0000 - val_loss: 34163037455777792.0000\n",
            "Epoch 10/20\n",
            "190/190 [==============================] - 1s 4ms/step - loss: 29136654409138176.0000 - val_loss: 34163037455777792.0000\n",
            "Epoch 11/20\n",
            "190/190 [==============================] - 1s 4ms/step - loss: 29136643671719936.0000 - val_loss: 34163037455777792.0000\n",
            "Epoch 12/20\n",
            "190/190 [==============================] - 1s 7ms/step - loss: 29136637229268992.0000 - val_loss: 34163037455777792.0000\n",
            "Epoch 13/20\n",
            "190/190 [==============================] - 1s 8ms/step - loss: 29136650114170880.0000 - val_loss: 34163037455777792.0000\n",
            "Epoch 14/20\n",
            "190/190 [==============================] - 1s 8ms/step - loss: 29136643671719936.0000 - val_loss: 34163037455777792.0000\n",
            "Epoch 15/20\n",
            "190/190 [==============================] - 1s 5ms/step - loss: 29136652261654528.0000 - val_loss: 34163033160810496.0000\n",
            "Epoch 16/20\n",
            "190/190 [==============================] - 1s 6ms/step - loss: 29136637229268992.0000 - val_loss: 34163033160810496.0000\n",
            "Epoch 17/20\n",
            "190/190 [==============================] - 1s 6ms/step - loss: 29136645819203584.0000 - val_loss: 34163033160810496.0000\n",
            "Epoch 18/20\n",
            "190/190 [==============================] - 1s 4ms/step - loss: 29136626491850752.0000 - val_loss: 34163026718359552.0000\n",
            "Epoch 19/20\n",
            "190/190 [==============================] - 1s 4ms/step - loss: 29136652261654528.0000 - val_loss: 34163026718359552.0000\n",
            "Epoch 20/20\n",
            "190/190 [==============================] - 1s 4ms/step - loss: 29136654409138176.0000 - val_loss: 34163026718359552.0000\n",
            "60/60 [==============================] - 0s 2ms/step\n",
            "Mean Squared Error: 3.079323980697708e+16\n"
          ]
        }
      ]
    },
    {
      "cell_type": "code",
      "source": [
        "import tensorflow as tf\n",
        "from tensorflow.keras.models import Sequential\n",
        "from tensorflow.keras.layers import Dense\n",
        "\n",
        "scaler = StandardScaler()\n",
        "X_train_scaled = scaler.fit_transform(X_train)\n",
        "X_val_scaled = scaler.transform(X_test)\n",
        "\n",
        "# Define the architecture of the neural network\n",
        "model = Sequential([\n",
        "    Dense(64, activation='relu', input_shape=(X_train.shape[1],)),  # input layer with 64 neurons and relu activation\n",
        "    Dense(32, activation='relu'),  # hidden layer with 32 neurons and relu activation\n",
        "    Dense(1)  # output layer with 1 neuron (for regression tasks)\n",
        "])\n",
        "\n",
        "# Compile the model\n",
        "model.compile(optimizer='adam', loss='mean_squared_error')\n",
        "\n",
        "model.fit(X_train_scaled, y_train, epochs=20, batch_size=32, validation_split=0.2)\n",
        "\n",
        "predictions = model.predict(X_val_scaled)\n",
        "mse = mean_squared_error(y_test, predictions)\n",
        "print(\"Mean Squared Error:\", mse)"
      ],
      "metadata": {
        "colab": {
          "base_uri": "https://localhost:8080/"
        },
        "id": "ZEG8aGsd2ESM",
        "outputId": "6d3f837b-08d4-4b44-dc90-7cd63451c8cd"
      },
      "execution_count": null,
      "outputs": [
        {
          "output_type": "stream",
          "name": "stdout",
          "text": [
            "Epoch 1/20\n",
            "190/190 [==============================] - 1s 3ms/step - loss: 29136658704105472.0000 - val_loss: 34163024570875904.0000\n",
            "Epoch 2/20\n",
            "190/190 [==============================] - 0s 2ms/step - loss: 29136577099726848.0000 - val_loss: 34162805527543808.0000\n",
            "Epoch 3/20\n",
            "190/190 [==============================] - 0s 2ms/step - loss: 29136196995121152.0000 - val_loss: 34162148397547520.0000\n",
            "Epoch 4/20\n",
            "190/190 [==============================] - 0s 2ms/step - loss: 29135365918949376.0000 - val_loss: 34160892119613440.0000\n",
            "Epoch 5/20\n",
            "190/190 [==============================] - 0s 2ms/step - loss: 29133937842323456.0000 - val_loss: 34158903549755392.0000\n",
            "Epoch 6/20\n",
            "190/190 [==============================] - 0s 2ms/step - loss: 29131822570930176.0000 - val_loss: 34156141885784064.0000\n",
            "Epoch 7/20\n",
            "190/190 [==============================] - 0s 2ms/step - loss: 29128910583103488.0000 - val_loss: 34152338692243456.0000\n",
            "Epoch 8/20\n",
            "190/190 [==============================] - 0s 2ms/step - loss: 29125100947111936.0000 - val_loss: 34147646440472576.0000\n",
            "Epoch 9/20\n",
            "190/190 [==============================] - 0s 2ms/step - loss: 29120335680897024.0000 - val_loss: 34141730123022336.0000\n",
            "Epoch 10/20\n",
            "190/190 [==============================] - 0s 2ms/step - loss: 29114627669360640.0000 - val_loss: 34134877502701568.0000\n",
            "Epoch 11/20\n",
            "190/190 [==============================] - 0s 2ms/step - loss: 29107964027600896.0000 - val_loss: 34126755719544832.0000\n",
            "Epoch 12/20\n",
            "190/190 [==============================] - 0s 2ms/step - loss: 29100183694344192.0000 - val_loss: 34117190827376640.0000\n",
            "Epoch 13/20\n",
            "190/190 [==============================] - 0s 2ms/step - loss: 29091293112041472.0000 - val_loss: 34106700369756160.0000\n",
            "Epoch 14/20\n",
            "190/190 [==============================] - 0s 2ms/step - loss: 29081326640431104.0000 - val_loss: 34094912832012288.0000\n",
            "Epoch 15/20\n",
            "190/190 [==============================] - 0s 2ms/step - loss: 29070292869447680.0000 - val_loss: 34082019340189696.0000\n",
            "Epoch 16/20\n",
            "190/190 [==============================] - 0s 2ms/step - loss: 29058060802588672.0000 - val_loss: 34067633347231744.0000\n",
            "Epoch 17/20\n",
            "190/190 [==============================] - 0s 2ms/step - loss: 29044722781650944.0000 - val_loss: 34051872964739072.0000\n",
            "Epoch 18/20\n",
            "190/190 [==============================] - 0s 2ms/step - loss: 29030184317353984.0000 - val_loss: 34034877779148800.0000\n",
            "Epoch 19/20\n",
            "190/190 [==============================] - 0s 2ms/step - loss: 29014387427639296.0000 - val_loss: 34016297750626304.0000\n",
            "Epoch 20/20\n",
            "190/190 [==============================] - 0s 2ms/step - loss: 28997405126950912.0000 - val_loss: 33996809336520704.0000\n",
            "60/60 [==============================] - 0s 1ms/step\n",
            "Mean Squared Error: 3.063488731476099e+16\n"
          ]
        }
      ]
    },
    {
      "cell_type": "markdown",
      "source": [
        "Lastly, I attempted to use some neural networks to see what the MSE would be like. I attempted to use both the tanh and relu activation, but due to the time it would take to fully tune these neural networks on all the different parameters, we decided not to pursue the neural networks any further. Presumably, the reson the MSE are so poor for both models is because of a lack of proper tuning, as they are worse than predicting the mean as a baseline."
      ],
      "metadata": {
        "id": "zMobj3TF__Aq"
      }
    }
  ]
}